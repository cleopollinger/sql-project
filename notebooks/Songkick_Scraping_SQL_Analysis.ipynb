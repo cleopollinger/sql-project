{
 "cells": [
  {
   "cell_type": "markdown",
   "id": "a37a424e",
   "metadata": {},
   "source": [
    "# Songkick Scraping SQL Analysis"
   ]
  },
  {
   "cell_type": "markdown",
   "id": "a92d3b18",
   "metadata": {},
   "source": [
    "## Descriptive Analytics Query"
   ]
  },
  {
   "cell_type": "code",
   "execution_count": null,
   "id": "8004b9f2",
   "metadata": {},
   "outputs": [],
   "source": [
    "\n",
    "import pandas as pd\n",
    "import sqlalchemy\n",
    "\n",
    "# Database connection\n",
    "db_url = os.getenv('DB_URL')\n",
    "db_user = os.getenv('DB_USER')\n",
    "db_password = os.getenv('DB_PASSWORD')\n",
    "db_name = os.getenv('DB_NAME')\n",
    "db_port = os.getenv('DB_PORT')\n",
    "\n",
    "engine = sqlalchemy.create_engine(f'postgresql://{db_user}:{db_password}@{db_url}:{db_port}/{db_name}')\n",
    "\n",
    "# Descriptive Analytics Query\n",
    "sql_query = '''\n",
    "SELECT venue, COUNT(*) AS event_count\n",
    "FROM songkick_scraping\n",
    "WHERE city = 'Los Angeles'\n",
    "GROUP BY venue\n",
    "ORDER BY event_count DESC;\n",
    "'''\n",
    "df = pd.read_sql(sql_query, engine)\n",
    "pd.set_option('display.max_rows', None)\n",
    "df\n"
   ]
  },
  {
   "cell_type": "markdown",
   "id": "da086cdc",
   "metadata": {},
   "source": [
    "## Insight"
   ]
  },
  {
   "cell_type": "markdown",
   "id": "e11d796b",
   "metadata": {},
   "source": [
    "The venue with the highest number of events in Los Angeles is identified."
   ]
  },
  {
   "cell_type": "markdown",
   "id": "2298a5dc",
   "metadata": {},
   "source": [
    "## Recommendation"
   ]
  },
  {
   "cell_type": "markdown",
   "id": "c4faee82",
   "metadata": {},
   "source": [
    "Focus on promoting events at the most popular venues in Los Angeles."
   ]
  },
  {
   "cell_type": "markdown",
   "id": "455bb88d",
   "metadata": {},
   "source": [
    "## Diagnostic Analytics Query"
   ]
  },
  {
   "cell_type": "code",
   "execution_count": null,
   "id": "9f3e9c3f",
   "metadata": {},
   "outputs": [],
   "source": [
    "\n",
    "# Diagnostic Analytics Query\n",
    "sql_query = '''\n",
    "WITH EventCounts AS (\n",
    "    SELECT venue, COUNT(*) AS event_count\n",
    "    FROM songkick_scraping\n",
    "    WHERE city = 'Los Angeles'\n",
    "    GROUP BY venue\n",
    ")\n",
    "SELECT venue, event_count, AVG(event_count) OVER() AS avg_event_count\n",
    "FROM EventCounts\n",
    "ORDER BY event_count DESC;\n",
    "'''\n",
    "df = pd.read_sql(sql_query, engine)\n",
    "pd.set_option('display.max_rows', None)\n",
    "df\n"
   ]
  },
  {
   "cell_type": "markdown",
   "id": "951c33dc",
   "metadata": {},
   "source": [
    "## Insight"
   ]
  },
  {
   "cell_type": "markdown",
   "id": "be27dc13",
   "metadata": {},
   "source": [
    "Comparison of event counts to the average event count in Los Angeles."
   ]
  },
  {
   "cell_type": "markdown",
   "id": "a84f77d7",
   "metadata": {},
   "source": [
    "## Recommendation"
   ]
  },
  {
   "cell_type": "markdown",
   "id": "11e0b376",
   "metadata": {},
   "source": [
    "Investigate why some venues in Los Angeles have higher or lower event counts than average."
   ]
  }
 ],
 "metadata": {},
 "nbformat": 4,
 "nbformat_minor": 5
}
