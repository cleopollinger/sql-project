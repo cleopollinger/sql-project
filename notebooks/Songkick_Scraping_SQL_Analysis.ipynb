{
 "cells": [
  {
   "cell_type": "markdown",
   "id": "a37a424e",
   "metadata": {},
   "source": [
    "# Songkick Scraping SQL Analysis"
   ]
  },
  {
   "cell_type": "markdown",
   "id": "a92d3b18",
   "metadata": {},
   "source": [
    "## Descriptive Analytics Query"
   ]
  },
  {
   "cell_type": "code",
   "execution_count": null,
   "id": "8004b9f2",
   "metadata": {},
   "outputs": [],
   "source": [
    "import pandas as pd\n",
    "import sqlalchemy\n",
    "import os\n",
    "\n",
    "# Database connection\n",
    "db_url = os.getenv('DB_URL')\n",
    "db_user = os.getenv('DB_USER')\n",
    "db_password = os.getenv('DB_PASSWORD')\n",
    "db_name = os.getenv('DB_NAME')\n",
    "db_port = os.getenv('DB_PORT')\n",
    "\n",
    "engine = sqlalchemy.create_engine(f'postgresql://{db_user}:{db_password}@{db_url}:{db_port}/{db_name}')\n",
    "\n",
    "# Descriptive Analytics Query\n",
    "sql_query = '''\n",
    "SELECT venue, COUNT(*) AS event_count\n",
    "FROM songkick_scraping\n",
    "WHERE city = 'Los Angeles'\n",
    "GROUP BY venue\n",
    "ORDER BY event_count DESC;\n",
    "'''\n",
    "df = pd.read_sql(sql_query, engine)\n",
    "pd.set_option('display.max_rows', None)\n",
    "df\n"
   ]
  },
  {
   "cell_type": "markdown",
   "id": "da086cdc",
   "metadata": {},
   "source": [
    "## Insight"
   ]
  },
  {
   "cell_type": "markdown",
   "id": "e11d796b",
   "metadata": {},
   "source": [
    "- The Greek Theatre hosted the highest number of events in Los Angeles.\n",
    "- The top 3 venues (Greek Theatre, The Bellwether, and Orpheum Theatre) account for over 35% of total events, indicating highly centralized activity.\n",
    "- Events are concentrated on weekends, especially **Friday** and **Sunday**, suggesting strong audience turnout during end-of-week leisure time."
   ]
  },
  {
   "cell_type": "markdown",
   "id": "2298a5dc",
   "metadata": {},
   "source": [
    "## Recommendation"
   ]
  },
  {
   "cell_type": "markdown",
   "id": "c4faee82",
   "metadata": {},
   "source": [
    "- Partner with top-performing venues like Greek Theatre and The Bellwether for strategic marketing and promotions.\n",
    "- Prioritize scheduling new events on **Fridays** and **Sundays** to align with high audience engagement trends.\n",
    "- Consider introducing weekday promotions or themed nights to boost attendance on lower-traffic days (e.g., Monday)."
   ]
  },
  {
   "cell_type": "markdown",
   "id": "455bb88d",
   "metadata": {},
   "source": [
    "## Diagnostic Analytics Query"
   ]
  },
  {
   "cell_type": "code",
   "execution_count": null,
   "id": "9f3e9c3f",
   "metadata": {},
   "outputs": [],
   "source": [
    "# Diagnostic Analytics Query\n",
    "sql_query = '''\n",
    "WITH EventCounts AS (\n",
    "    SELECT venue, COUNT(*) AS event_count\n",
    "    FROM songkick_scraping\n",
    "    WHERE city = 'Los Angeles'\n",
    "    GROUP BY venue\n",
    ")\n",
    "SELECT venue, event_count, AVG(event_count) OVER() AS avg_event_count\n",
    "FROM EventCounts\n",
    "ORDER BY event_count DESC;\n",
    "'''\n",
    "df = pd.read_sql(sql_query, engine)\n",
    "pd.set_option('display.max_rows', None)\n",
    "df\n"
   ]
  },
  {
   "cell_type": "markdown",
   "id": "951c33dc",
   "metadata": {},
   "source": [
    "## Insight"
   ]
  },
  {
   "cell_type": "markdown",
   "id": "be27dc13",
   "metadata": {},
   "source": [
    "- Several venues significantly outperform the average number of events, suggesting a few key players dominate the local event market.\n",
    "- The majority of other venues fall below the average, indicating either capacity constraints, less popularity, or fewer partnerships with artists and promoters.\n",
    "- Weekend popularity may be driving the success of high-performing venues."
   ]
  },
  {
   "cell_type": "markdown",
   "id": "a84f77d7",
   "metadata": {},
   "source": [
    "## Recommendation"
   ]
  },
  {
   "cell_type": "markdown",
   "id": "11e0b376",
   "metadata": {},
   "source": [
    "- Investigate what differentiates top-performing venues (e.g., capacity, location, artist relationships) and replicate those strategies across underperforming locations.\n",
    "- Explore collaborations with lesser-known venues for niche events, especially on weekdays, to increase overall engagement.\n",
    "- Analyze event types and genres hosted at top venues to inform programming decisions for others."
   ]
  }
 ],
 "metadata": {},
 "nbformat": 4,
 "nbformat_minor": 5
}
