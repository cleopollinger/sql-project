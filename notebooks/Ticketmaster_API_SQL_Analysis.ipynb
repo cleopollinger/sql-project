{
  "cells": [
    {
      "cell_type": "markdown",
      "id": "c056c389",
      "metadata": {},
      "source": [
        "# Ticketmaster API SQL Analysis"
      ]
    },
    {
      "cell_type": "markdown",
      "id": "1e2ed8e0",
      "metadata": {},
      "source": [
        "## Descriptive Analytics Query"
      ]
    },
    {
      "cell_type": "code",
      "execution_count": null,
      "id": "8a5b1211",
      "metadata": {},
      "outputs": [],
      "source": [
        "import pandas as pd\n",
        "import sqlalchemy\n",
        "import os\n",
        "\n",
        "# Database connection\n",
        "db_url = os.getenv('DB_URL')\n",
        "db_user = os.getenv('DB_USER')\n",
        "db_password = os.getenv('DB_PASSWORD')\n",
        "db_name = os.getenv('DB_NAME')
