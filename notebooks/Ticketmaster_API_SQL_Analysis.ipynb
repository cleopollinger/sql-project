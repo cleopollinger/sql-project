{
 "cells": [
  {
   "cell_type": "markdown",
   "id": "c056c389",
   "metadata": {},
   "source": [
    "# Ticketmaster API SQL Analysis"
   ]
  },
  {
   "cell_type": "markdown",
   "id": "1e2ed8e0",
   "metadata": {},
   "source": [
    "## Descriptive Analytics Query"
   ]
  },
  {
   "cell_type": "code",
   "execution_count": null,
   "id": "8a5b1211",
   "metadata": {},
   "outputs": [],
   "source": [
    "import pandas as pd\n",
    "import sqlalchemy\n",
    "import os\n",
    "\n",
    "# Database connection\n",
    "db_url = os.getenv('DB_URL')\n",
    "db_user = os.getenv('DB_USER')\n",
    "db_password = os.getenv('DB_PASSWORD')\n",
    "db_name = os.getenv('DB_NAME')\n",
    "db_port = os.getenv('DB_PORT')\n",
    "\n",
    "engine = sqlalchemy.create_engine(f'postgresql://{db_user}:{db_password}@{db_url}:{db_port}/{db_name}')\n",
    "\n",
    "# Descriptive Analytics Query\n",
    "sql_query = '''\n",
    "SELECT venue, COUNT(*) AS event_count\n",
    "FROM ticketmaster_api\n",
    "GROUP BY venue\n",
    "ORDER BY event_count DESC;\n",
    "'''\n",
    "df = pd.read_sql(sql_query, engine)\n",
    "pd.set_option('display.max_rows', None)\n",
    "df"
   ]
  },
  {
   "cell_type": "markdown",
   "id": "fdef6199",
   "metadata": {},
   "source": [
    "## Insight"
   ]
  },
  {
   "cell_type": "markdown",
   "id": "8bfd929b",
   "metadata": {},
   "source": [
    "The majority of events are concentrated at a few venues. The top venue (likely \"The Moroccan Lounge\") hosts over 25 events, which is significantly higher than the long tail of smaller venues."
   ]
  },
  {
   "cell_type": "markdown",
   "id": "040acf74",
   "metadata": {},
   "source": [
    "## Recommendation"
   ]
  },
  {
   "cell_type": "markdown",
   "id": "8694bde8",
   "metadata": {},
   "source": [
    "- Focus marketing and promotion efforts on high-traffic venues like Lounge, Pantages, and The Echo.\n",
    "- Consider forming exclusive partnerships with the top 5 venues to secure visibility.\n",
    "- Evaluate underperforming venues to determine if lack of events is due to location, facility quality, or booking limitations."
   ]
  },
  {
   "cell_type": "markdown",
   "id": "ff71ba05",
   "metadata": {},
   "source": [
    "## Diagnostic Analytics Query"
   ]
  },
  {
   "cell_type": "code",
   "execution_count": null,
   "id": "ec8bfc38",
   "metadata": {},
   "outputs": [],
   "source": [
    "# Diagnostic Analytics Query\n",
    "sql_query = '''\n",
    "WITH EventCounts AS (\n",
    "    SELECT venue, COUNT(*) AS event_count\n",
    "    FROM ticketmaster_api\n",
    "    GROUP BY venue\n",
    ")\n",
    "SELECT venue, event_count, AVG(event_count) OVER() AS avg_event_count\n",
    "FROM EventCounts\n",
    "ORDER BY event_count DESC;\n",
    "'''\n",
    "df = pd.read_sql(sql_query, engine)\n",
    "pd.set_option('display.max_rows', None)\n",
    "df"
   ]
  },
  {
   "cell_type": "markdown",
   "id": "ac23c0b7",
   "metadata": {},
   "source": [
    "## Insight"
   ]
  },
  {
   "cell_type": "markdown",
   "id": "a9065d6d",
   "metadata": {},
   "source": [
    "Most venues fall below the average event count. This suggests a high concentration of events at a small number of venues, indicating potential market saturation at the top and untapped capacity at the bottom."
   ]
  },
  {
   "cell_type": "markdown",
   "id": "8d4f470e",
   "metadata": {},
   "source": [
    "## Recommendation"
   ]
  },
  {
   "cell_type": "markdown",
   "id": "e53ec102",
   "metadata": {},
   "source": [
    "- Analyze venue-specific characteristics (location, genre, capacity) to understand performance drivers.\n",
    "- Diversify event distribution by incentivizing use of mid- and low-tier venues.\n",
    "- Consider hosting unique or niche events in lower-performing venues to boost utilization."
   ]
  },
  {
  
    
  }
 ],
 "metadata": {},
 "nbformat": 4,
 "nbformat_minor": 5
}
